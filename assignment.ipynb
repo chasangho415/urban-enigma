{
 "cells": [
  {
   "cell_type": "markdown",
   "id": "445c52f0-a0c4-4ca7-856d-342fc24d5eb7",
   "metadata": {},
   "source": [
    "# 기계학습및실습 2024년 2학기 중간과제\n",
    "*2021100936 인공지능융합학부 차상호*\n",
    "* 가족과 함께 탑승했을 경우에 더 높은 등급의 좌석을 택하고 더 높은 생존률을 보여줄것이라고 생각해서 가족과 탑승한 수의 승객의 티켓 등급을 예측하는 모델을 구성해보았다."
   ]
  },
  {
   "cell_type": "code",
   "execution_count": 7,
   "id": "7426bb94-d9ba-4877-a243-84901402782a",
   "metadata": {
    "scrolled": true
   },
   "outputs": [
    {
     "data": {
      "text/html": [
       "<div>\n",
       "<style scoped>\n",
       "    .dataframe tbody tr th:only-of-type {\n",
       "        vertical-align: middle;\n",
       "    }\n",
       "\n",
       "    .dataframe tbody tr th {\n",
       "        vertical-align: top;\n",
       "    }\n",
       "\n",
       "    .dataframe thead th {\n",
       "        text-align: right;\n",
       "    }\n",
       "</style>\n",
       "<table border=\"1\" class=\"dataframe\">\n",
       "  <thead>\n",
       "    <tr style=\"text-align: right;\">\n",
       "      <th></th>\n",
       "      <th>Survived</th>\n",
       "      <th>Pclass</th>\n",
       "      <th>Name</th>\n",
       "      <th>Sex</th>\n",
       "      <th>Age</th>\n",
       "      <th>SibSp</th>\n",
       "      <th>Parch</th>\n",
       "      <th>Ticket</th>\n",
       "      <th>Fare</th>\n",
       "      <th>Cabin</th>\n",
       "      <th>Embarked</th>\n",
       "    </tr>\n",
       "    <tr>\n",
       "      <th>PassengerId</th>\n",
       "      <th></th>\n",
       "      <th></th>\n",
       "      <th></th>\n",
       "      <th></th>\n",
       "      <th></th>\n",
       "      <th></th>\n",
       "      <th></th>\n",
       "      <th></th>\n",
       "      <th></th>\n",
       "      <th></th>\n",
       "      <th></th>\n",
       "    </tr>\n",
       "  </thead>\n",
       "  <tbody>\n",
       "    <tr>\n",
       "      <th>1</th>\n",
       "      <td>0</td>\n",
       "      <td>3</td>\n",
       "      <td>Braund, Mr. Owen Harris</td>\n",
       "      <td>male</td>\n",
       "      <td>22.0</td>\n",
       "      <td>1</td>\n",
       "      <td>0</td>\n",
       "      <td>A/5 21171</td>\n",
       "      <td>7.2500</td>\n",
       "      <td>NaN</td>\n",
       "      <td>S</td>\n",
       "    </tr>\n",
       "    <tr>\n",
       "      <th>2</th>\n",
       "      <td>1</td>\n",
       "      <td>1</td>\n",
       "      <td>Cumings, Mrs. John Bradley (Florence Briggs Th...</td>\n",
       "      <td>female</td>\n",
       "      <td>38.0</td>\n",
       "      <td>1</td>\n",
       "      <td>0</td>\n",
       "      <td>PC 17599</td>\n",
       "      <td>71.2833</td>\n",
       "      <td>C85</td>\n",
       "      <td>C</td>\n",
       "    </tr>\n",
       "    <tr>\n",
       "      <th>3</th>\n",
       "      <td>1</td>\n",
       "      <td>3</td>\n",
       "      <td>Heikkinen, Miss. Laina</td>\n",
       "      <td>female</td>\n",
       "      <td>26.0</td>\n",
       "      <td>0</td>\n",
       "      <td>0</td>\n",
       "      <td>STON/O2. 3101282</td>\n",
       "      <td>7.9250</td>\n",
       "      <td>NaN</td>\n",
       "      <td>S</td>\n",
       "    </tr>\n",
       "    <tr>\n",
       "      <th>4</th>\n",
       "      <td>1</td>\n",
       "      <td>1</td>\n",
       "      <td>Futrelle, Mrs. Jacques Heath (Lily May Peel)</td>\n",
       "      <td>female</td>\n",
       "      <td>35.0</td>\n",
       "      <td>1</td>\n",
       "      <td>0</td>\n",
       "      <td>113803</td>\n",
       "      <td>53.1000</td>\n",
       "      <td>C123</td>\n",
       "      <td>S</td>\n",
       "    </tr>\n",
       "    <tr>\n",
       "      <th>5</th>\n",
       "      <td>0</td>\n",
       "      <td>3</td>\n",
       "      <td>Allen, Mr. William Henry</td>\n",
       "      <td>male</td>\n",
       "      <td>35.0</td>\n",
       "      <td>0</td>\n",
       "      <td>0</td>\n",
       "      <td>373450</td>\n",
       "      <td>8.0500</td>\n",
       "      <td>NaN</td>\n",
       "      <td>S</td>\n",
       "    </tr>\n",
       "  </tbody>\n",
       "</table>\n",
       "</div>"
      ],
      "text/plain": [
       "             Survived  Pclass  \\\n",
       "PassengerId                     \n",
       "1                   0       3   \n",
       "2                   1       1   \n",
       "3                   1       3   \n",
       "4                   1       1   \n",
       "5                   0       3   \n",
       "\n",
       "                                                          Name     Sex   Age  \\\n",
       "PassengerId                                                                    \n",
       "1                                      Braund, Mr. Owen Harris    male  22.0   \n",
       "2            Cumings, Mrs. John Bradley (Florence Briggs Th...  female  38.0   \n",
       "3                                       Heikkinen, Miss. Laina  female  26.0   \n",
       "4                 Futrelle, Mrs. Jacques Heath (Lily May Peel)  female  35.0   \n",
       "5                                     Allen, Mr. William Henry    male  35.0   \n",
       "\n",
       "             SibSp  Parch            Ticket     Fare Cabin Embarked  \n",
       "PassengerId                                                          \n",
       "1                1      0         A/5 21171   7.2500   NaN        S  \n",
       "2                1      0          PC 17599  71.2833   C85        C  \n",
       "3                0      0  STON/O2. 3101282   7.9250   NaN        S  \n",
       "4                1      0            113803  53.1000  C123        S  \n",
       "5                0      0            373450   8.0500   NaN        S  "
      ]
     },
     "execution_count": 7,
     "metadata": {},
     "output_type": "execute_result"
    }
   ],
   "source": [
    "import pandas as pd\n",
    "import matplotlib.pyplot as plt\n",
    "%matplotlib inline\n",
    "\n",
    "df = pd.read_csv(\"./data/train.csv\", index_col=\"PassengerId\")\n",
    "df.head()"
   ]
  },
  {
   "cell_type": "code",
   "execution_count": 8,
   "id": "a8ddad8a-e11b-4cbc-ad03-edc887d81833",
   "metadata": {},
   "outputs": [
    {
     "data": {
      "image/png": "[encoded data removed]",
      "text/plain": [
       "<Figure size 640x480 with 1 Axes>"
      ]
     },
     "metadata": {},
     "output_type": "display_data"
    }
   ],
   "source": [
    "df[\"Pclass\"].value_counts().plot(kind=\"bar\", x=\"Pclass\")\n",
    "plt.show()"
   ]
  },
  {
   "cell_type": "markdown",
   "id": "736ec6c9-7d9b-4b2d-9d61-87e6f7244610",
   "metadata": {},
   "source": [
    "클래스 별로 가격을 비교하고 생존에 있어서 그 만큼의 가치가 있었는지 판단하여 보려고 한다."
   ]
  },
  {
   "cell_type": "code",
   "execution_count": 9,
   "id": "e50c40d8-7658-40ea-a7ab-ab246ab7068e",
   "metadata": {},
   "outputs": [
    {
     "name": "stdout",
     "output_type": "stream",
     "text": [
      "<class 'pandas.core.frame.DataFrame'>\n",
      "Index: 891 entries, 1 to 891\n",
      "Data columns (total 11 columns):\n",
      " #   Column    Non-Null Count  Dtype  \n",
      "---  ------    --------------  -----  \n",
      " 0   Survived  891 non-null    int64  \n",
      " 1   Pclass    891 non-null    int64  \n",
      " 2   Name      891 non-null    object \n",
      " 3   Sex       891 non-null    object \n",
      " 4   Age       714 non-null    float64\n",
      " 5   SibSp     891 non-null    int64  \n",
      " 6   Parch     891 non-null    int64  \n",
      " 7   Ticket    891 non-null    object \n",
      " 8   Fare      891 non-null    float64\n",
      " 9   Cabin     204 non-null    object \n",
      " 10  Embarked  889 non-null    object \n",
      "dtypes: float64(2), int64(4), object(5)\n",
      "memory usage: 83.5+ KB\n"
     ]
    }
   ],
   "source": [
    "df.info()"
   ]
  },
  {
   "cell_type": "code",
   "execution_count": 10,
   "id": "ea09d378-028d-4c5d-9f20-04b0dedc6bd6",
   "metadata": {},
   "outputs": [
    {
     "data": {
      "text/plain": [
       "Pclass\n",
       "3    491\n",
       "1    216\n",
       "2    184\n",
       "Name: count, dtype: int64"
      ]
     },
     "execution_count": 10,
     "metadata": {},
     "output_type": "execute_result"
    }
   ],
   "source": [
    "df[\"Pclass\"].value_counts() # 클래스 별로 몇명이 있는지 확인"
   ]
  },
  {
   "cell_type": "code",
   "execution_count": 11,
   "id": "dd912bb7-2db3-426a-bbc7-e01cfbf15864",
   "metadata": {},
   "outputs": [
    {
     "name": "stdout",
     "output_type": "stream",
     "text": [
      "             Survived  Pclass     Sex   Age  SibSp  Parch     Fare Embarked\n",
      "PassengerId                                                                \n",
      "379                 0       3    male  20.0      0      0   4.0125        C\n",
      "327                 0       3    male  61.0      0      0   6.2375        S\n",
      "844                 0       3    male  34.5      0      0   6.4375        C\n",
      "819                 0       3    male  43.0      0      0   6.4500        S\n",
      "372                 0       3    male  18.0      1      0   6.4958        S\n",
      "...               ...     ...     ...   ...    ...    ...      ...      ...\n",
      "864                 0       3  female   NaN      8      2  69.5500        S\n",
      "793                 0       3  female   NaN      8      2  69.5500        S\n",
      "181                 0       3  female   NaN      8      2  69.5500        S\n",
      "325                 0       3    male   NaN      8      2  69.5500        S\n",
      "160                 0       3    male   NaN      8      2  69.5500        S\n",
      "3등급 승객들의 평균 요금 = 13.787874948665301\n"
     ]
    }
   ],
   "source": [
    "sorted_pclass_3 = df[(df['Pclass'] == 3) & (df['Fare'] > 0)].sort_values(by='Fare', ascending=True)\n",
    "sorted_pclass_3.drop(['Name', 'Ticket','Cabin'], axis = 1, inplace = True )\n",
    "print(sorted_pclass_3.to_string(max_rows=10))\n",
    "average_fare_pclass_3 = sorted_pclass_3['Fare'].mean()\n",
    "print(f\"3등급 승객들의 평균 요금 = {average_fare_pclass_3}\")"
   ]
  },
  {
   "cell_type": "code",
   "execution_count": 12,
   "id": "d9b1bed0-fb20-4fc9-931f-d7e36c8be490",
   "metadata": {},
   "outputs": [
    {
     "name": "stdout",
     "output_type": "stream",
     "text": [
      "             Survived  Pclass     Sex   Age  SibSp  Parch  Fare Embarked\n",
      "PassengerId                                                             \n",
      "34                  0       2    male  66.0      0      0  10.5        S\n",
      "85                  1       2  female  17.0      0      0  10.5        S\n",
      "67                  1       2  female  29.0      0      0  10.5        S\n",
      "57                  1       2  female  21.0      0      0  10.5        S\n",
      "71                  0       2    male  32.0      0      0  10.5        S\n",
      "...               ...     ...     ...   ...    ...    ...   ...      ...\n",
      "386                 0       2    male  18.0      0      0  73.5        S\n",
      "121                 0       2    male  21.0      2      0  73.5        S\n",
      "73                  0       2    male  21.0      0      0  73.5        S\n",
      "666                 0       2    male  32.0      2      0  73.5        S\n",
      "656                 0       2    male  24.0      2      0  73.5        S\n",
      "2등급 승객들의 평균 요금 = 21.358661235955054\n"
     ]
    }
   ],
   "source": [
    "sorted_pclass_2 = df[(df['Pclass'] == 2) & (df['Fare'] > 0)].sort_values(by='Fare', ascending=True)\n",
    "sorted_pclass_2.drop(['Name', 'Ticket','Cabin'], axis = 1, inplace = True)\n",
    "print(sorted_pclass_2.to_string(max_rows=10))\n",
    "average_fare_pclass_2 = sorted_pclass_2['Fare'].mean()\n",
    "print(f\"2등급 승객들의 평균 요금 = {average_fare_pclass_2}\")"
   ]
  },
  {
   "cell_type": "code",
   "execution_count": 13,
   "id": "344a7ecb-409d-47c2-a043-74d1072b2fa0",
   "metadata": {},
   "outputs": [
    {
     "name": "stdout",
     "output_type": "stream",
     "text": [
      "             Survived  Pclass     Sex   Age  SibSp  Parch      Fare Embarked\n",
      "PassengerId                                                                 \n",
      "873                 0       1    male  33.0      0      0    5.0000        S\n",
      "663                 0       1    male  47.0      0      0   25.5875        S\n",
      "169                 0       1    male   NaN      0      0   25.9250        S\n",
      "797                 1       1  female  49.0      0      0   25.9292        S\n",
      "863                 1       1  female  48.0      0      0   25.9292        S\n",
      "...               ...     ...     ...   ...    ...    ...       ...      ...\n",
      "89                  1       1  female  23.0      3      2  263.0000        S\n",
      "342                 1       1  female  24.0      3      2  263.0000        S\n",
      "259                 1       1  female  35.0      0      0  512.3292        C\n",
      "680                 1       1    male  36.0      0      1  512.3292        C\n",
      "738                 1       1    male  35.0      0      0  512.3292        C\n",
      "1등급 승객들의 평균 요금 = 86.14887440758294\n"
     ]
    }
   ],
   "source": [
    "sorted_pclass_1 = df[(df['Pclass'] == 1) & (df['Fare'] > 0)].sort_values(by='Fare', ascending=True)\n",
    "sorted_pclass_1.drop(['Name', 'Ticket','Cabin'], axis = 1, inplace = True )\n",
    "print(sorted_pclass_1.to_string(max_rows=10))\n",
    "average_fare_pclass_1 = sorted_pclass_1['Fare'].mean()\n",
    "print(f\"1등급 승객들의 평균 요금 = {average_fare_pclass_1}\")"
   ]
  },
  {
   "cell_type": "markdown",
   "id": "0b3b6e5a-dcf4-43fc-886f-4bd0b00b8a49",
   "metadata": {},
   "source": [
    "* 영화 타이타닉에서 등급별로 호화로운 차이가 많이 나서 각 등급별로 가격차이가 얼마나 나는지 궁금했다."
   ]
  },
  {
   "cell_type": "code",
   "execution_count": 14,
   "id": "ef57c357-9acc-47f2-bcb5-7a950c38ec07",
   "metadata": {},
   "outputs": [
    {
     "data": {
      "image/png": "[encoded data removed]",
      "text/plain": [
       "<Figure size 800x500 with 1 Axes>"
      ]
     },
     "metadata": {},
     "output_type": "display_data"
    }
   ],
   "source": [
    "import matplotlib.pyplot as plt\n",
    "import matplotlib.font_manager as fm\n",
    "\n",
    "plt.rcParams['font.family'] = 'Malgun Gothic'\n",
    "\n",
    "sorted_fares = [average_fare_pclass_3, average_fare_pclass_2, average_fare_pclass_1]\n",
    "pclass_labels = ['3등급', '2등급', '1등급']\n",
    "\n",
    "plt.figure(figsize=(8, 5))\n",
    "plt.bar(pclass_labels, sorted_fares, color='skyblue')\n",
    "plt.xlabel('Pclass (승객 등급)')\n",
    "plt.ylabel('평균 요금 (Fare)')\n",
    "plt.title('Pclass별 평균 요금')\n",
    "plt.ylim(0, 100)\n",
    "plt.grid(axis='y')\n",
    "plt.show()"
   ]
  },
  {
   "cell_type": "markdown",
   "id": "ef5f07fd-5e81-47bf-980f-13c8e811daa0",
   "metadata": {},
   "source": []
  },
  {
   "cell_type": "code",
   "execution_count": 15,
   "id": "9498b120-3654-4ced-b5e9-639560002b81",
   "metadata": {},
   "outputs": [
    {
     "data": {
      "image/png": "[encoded data removed]",
      "text/plain": [
       "<Figure size 1200x600 with 1 Axes>"
      ]
     },
     "metadata": {},
     "output_type": "display_data"
    }
   ],
   "source": [
    "# 타이타닉 데이터셋 로드\n",
    "titanic = pd.read_csv('https://web.stanford.edu/class/archive/cs/cs109/cs109.1166/stuff/titanic.csv')\n",
    "\n",
    "titanic['family_size'] = titanic['Siblings/Spouses Aboard'] + titanic['Parents/Children Aboard'] + 1\n",
    "\n",
    "# 가족 크기 분포 시각화 (seaborn 없이)\n",
    "plt.figure(figsize=(12, 6))\n",
    "family_size_count = titanic['family_size'].value_counts().sort_index()\n",
    "\n",
    "plt.bar(family_size_count.index, family_size_count.values, color='blue')\n",
    "plt.title('Distribution of Family Sizes', fontsize=16)\n",
    "plt.xlabel('Family Size', fontsize=14)\n",
    "plt.ylabel('Count', fontsize=14)\n",
    "plt.xticks(family_size_count.index)\n",
    "plt.tight_layout()\n",
    "plt.show()"
   ]
  },
  {
   "cell_type": "code",
   "execution_count": 16,
   "id": "3e229aa5-30ee-4bea-b131-8504389c419a",
   "metadata": {},
   "outputs": [
    {
     "data": {
      "image/png": "[encoded data removed]",
      "text/plain": [
       "<Figure size 1200x600 with 1 Axes>"
      ]
     },
     "metadata": {},
     "output_type": "display_data"
    }
   ],
   "source": [
    "import pandas as pd\n",
    "import matplotlib.pyplot as plt\n",
    "\n",
    "# 타이타닉 데이터셋 로드\n",
    "titanic = pd.read_csv('https://web.stanford.edu/class/archive/cs/cs109/cs109.1166/stuff/titanic.csv')\n",
    "\n",
    "# 가족 크기 변수 생성 (sibsp + parch + 본인)\n",
    "titanic['family_size'] = titanic['Siblings/Spouses Aboard'] + titanic['Parents/Children Aboard'] + 1\n",
    "\n",
    "# 티켓 등급과 가족 크기 간의 관계 시각화 (Boxplot)\n",
    "plt.figure(figsize=(12, 6))\n",
    "\n",
    "# 각 등급별로 family_size 리스트 생성\n",
    "pclass_1 = titanic[titanic['Pclass'] == 1]['family_size']\n",
    "pclass_2 = titanic[titanic['Pclass'] == 2]['family_size']\n",
    "pclass_3 = titanic[titanic['Pclass'] == 3]['family_size']\n",
    "\n",
    "# Boxplot 그리기 (tick_labels 사용)\n",
    "plt.boxplot([pclass_1, pclass_2, pclass_3], tick_labels=['1', '2', '3'], patch_artist=True)\n",
    "\n",
    "# 그래프 제목과 축 레이블 설정\n",
    "plt.title('Family Size Distribution by Ticket Class', fontsize=16)\n",
    "plt.xlabel('Ticket Class', fontsize=14)\n",
    "plt.ylabel('Family Size', fontsize=14)\n",
    "plt.tight_layout()\n",
    "plt.show()"
   ]
  },
  {
   "cell_type": "code",
   "execution_count": 22,
   "id": "87731e54-719b-418f-883e-43c67c8e1a87",
   "metadata": {},
   "outputs": [
    {
     "name": "stdout",
     "output_type": "stream",
     "text": [
      "\n",
      "Classification Report:\n",
      "               precision    recall  f1-score   support\n",
      "\n",
      "           1       0.69      0.77      0.73        26\n",
      "           2       1.00      0.00      0.00        12\n",
      "           3       0.67      0.85      0.75        33\n",
      "\n",
      "    accuracy                           0.68        71\n",
      "   macro avg       0.79      0.54      0.49        71\n",
      "weighted avg       0.73      0.68      0.61        71\n",
      "\n"
     ]
    },
    {
     "name": "stderr",
     "output_type": "stream",
     "text": [
      "C:\\Users\\rabbi\\AppData\\Local\\Temp\\ipykernel_19148\\1011260730.py:17: FutureWarning: A value is trying to be set on a copy of a DataFrame or Series through chained assignment using an inplace method.\n",
      "The behavior will change in pandas 3.0. This inplace method will never work because the intermediate object on which we are setting values always behaves as a copy.\n",
      "\n",
      "For example, when doing 'df[col].method(value, inplace=True)', try using 'df.method({col: value}, inplace=True)' or df[col] = df[col].method(value) instead, to perform the operation inplace on the original object.\n",
      "\n",
      "\n",
      "  titanic_with_family['Age'].fillna(titanic_with_family['Age'].median(), inplace=True)\n",
      "C:\\Users\\rabbi\\AppData\\Local\\Temp\\ipykernel_19148\\1011260730.py:17: SettingWithCopyWarning: \n",
      "A value is trying to be set on a copy of a slice from a DataFrame\n",
      "\n",
      "See the caveats in the documentation: https://pandas.pydata.org/pandas-docs/stable/user_guide/indexing.html#returning-a-view-versus-a-copy\n",
      "  titanic_with_family['Age'].fillna(titanic_with_family['Age'].median(), inplace=True)\n"
     ]
    }
   ],
   "source": [
    "import pandas as pd\n",
    "from sklearn.model_selection import train_test_split\n",
    "from sklearn.linear_model import LogisticRegression\n",
    "from sklearn.preprocessing import StandardScaler\n",
    "from sklearn.metrics import classification_report\n",
    "\n",
    "# 타이타닉 데이터셋 로드 (이미 전처리된 데이터 사용)\n",
    "titanic = pd.read_csv('https://web.stanford.edu/class/archive/cs/cs109/cs109.1166/stuff/titanic.csv')\n",
    "\n",
    "# 가족 크기 변수 생성 (Siblings/Spouses Aboard + Parents/Children Aboard + 본인)\n",
    "titanic['family_size'] = titanic['Siblings/Spouses Aboard'] + titanic['Parents/Children Aboard'] + 1\n",
    "\n",
    "# 혼자 탑승한 승객 제외 (family_size가 1인 경우 제외)\n",
    "titanic_with_family = titanic[titanic['family_size'] > 1]\n",
    "\n",
    "# 결측치 처리 (나이의 결측치를 중앙값으로 대체)\n",
    "titanic_with_family['Age'].fillna(titanic_with_family['Age'].median(), inplace=True)\n",
    "\n",
    "# 독립 변수 (family_size, Age 사용)\n",
    "X = titanic_with_family[['family_size', 'Age']]\n",
    "\n",
    "# 종속 변수 (티켓 등급 Pclass)\n",
    "y = titanic_with_family['Pclass']\n",
    "\n",
    "# 데이터 스케일링 (표준화)\n",
    "scaler = StandardScaler()\n",
    "X_scaled = scaler.fit_transform(X)\n",
    "\n",
    "# 학습 데이터와 테스트 데이터 분리 (80% 학습, 20% 테스트)\n",
    "X_train, X_test, y_train, y_test = train_test_split(X_scaled, y, test_size=0.2, random_state=42)\n",
    "\n",
    "# 로지스틱 회귀 모델 학습\n",
    "model = LogisticRegression(solver='lbfgs', max_iter=1000)\n",
    "model.fit(X_train, y_train)\n",
    "\n",
    "# 예측 및 평가\n",
    "y_pred = model.predict(X_test)\n",
    "\n",
    "# 성능 평가: 분류 리포트 출력\n",
    "print(\"\\nClassification Report:\\n\", classification_report(y_test, y_pred, zero_division=1))"
   ]
  },
  {
   "cell_type": "code",
   "execution_count": null,
   "id": "38426d1e-39d9-440d-b94d-76e9c9fbc682",
   "metadata": {},
   "outputs": [],
   "source": []
  },
  {
   "cell_type": "code",
   "execution_count": null,
   "id": "8ddc896c-0a72-41d7-b04a-ebd4527b24c5",
   "metadata": {},
   "outputs": [],
   "source": []
  },
  {
   "cell_type": "code",
   "execution_count": null,
   "id": "03a71d02-1dd6-4afd-8f55-7c01c448f994",
   "metadata": {},
   "outputs": [],
   "source": []
  }
 ],
 "metadata": {
  "kernelspec": {
   "display_name": "Python 3 (ipykernel)",
   "language": "python",
   "name": "python3"
  },
  "language_info": {
   "codemirror_mode": {
    "name": "ipython",
    "version": 3
   },
   "file_extension": ".py",
   "mimetype": "text/x-python",
   "name": "python",
   "nbconvert_exporter": "python",
   "pygments_lexer": "ipython3",
   "version": "3.12.4"
  }
 },
 "nbformat": 4,
 "nbformat_minor": 5
}
