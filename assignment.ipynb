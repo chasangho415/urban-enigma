{
 "cells": [
  {
   "cell_type": "markdown",
   "id": "445c52f0-a0c4-4ca7-856d-342fc24d5eb7",
   "metadata": {},
   "source": [
    "# 기계학습및실습 2024년 2학기 중간과제\n",
    "*2021100936 인공지능융합학부 차상호*\n",
    "* 가족과 함께 탐승하는 경우 혼자 탑승했을 경우보다 더 높은 등급에 탑승할 확률이 높을 것이라는 가설을 세우고 예측하는 분류 모델을 만들고자 한다."
   ]
  },
  {
   "cell_type": "markdown",
   "id": "02222be9-d696-493c-bd3f-dc8b9605b990",
   "metadata": {},
   "source": [
    "### 목차\n",
    "\n",
    "* 1. 데이터 불러오기\n",
    "    * 1.1 데이터 확인기기\n",
    "\n",
    "* 2. 데이터 셋에 대한 궁금증\n",
    "    * 2.1 등급별 평균 요금 구하기\n",
    "    * 2.3 등급별 생존자 수 구하기\n",
    "\n",
    "* 3. 같이 탑승했을 경우에 대한 궁금증\n",
    "    * 3.1 가족 크기 비교하기\n",
    "    * 3.2 동반자 수에 따른 생존 확률\n",
    "- -가설 세우기\n",
    "    - -각 클래스 별 가족과 함께 탑승한 사람과 혼자 탑승한 사람 비교하기\n",
    "    - -그렇다면 가족과 함께 탑승할때 더 비싸고 좋은 좌석을 선택했을 것이라고 가설을 세움"
   ]
  },
  {
   "cell_type": "markdown",
   "id": "e484de33-fdb3-464d-902b-5eb704d70ac3",
   "metadata": {},
   "source": [
    "### 1. 데이터 불러오기 <a class=\"anchor\" id=\"1\"></a>\n",
    "\n",
    "#### 1.1 데이터 확인기기<a class=\"anchor\" id=\"1.1\"></a>\n",
    "\n",
    "### 2. 데이터 셋에 대한 궁금증 <a class=\"anchor\" id=\"section_1_2\"></a>\n",
    "\n",
    "#### 2.1 등급별 평균 요금 구하기 <a class=\"anchor\" id=\"section_1_2_1\"></a>\n",
    "\n",
    "#### 2.2 등급별 평균 요금 시각화하기<a class=\"anchor\" id=\"section_1_2_2\"></a>\n",
    "\n",
    "#### 2.3 등급별 생존자 수 구하기 <a class=\"anchor\" id=\"section_1_2_3\"></a>\n",
    "\n",
    "### 3. 같이 탑승했을 경우에 대한 궁금증 <a class=\"anchor\" id=\"chapter2\"></a>\n",
    "\n",
    "#### 3.1 가족 크기 비교하기 <a class=\"anchor\" id=\"section_2_1\"></a>\n",
    "\n",
    "#### 3.2 동반자 수에 따른 생존 확률 <a class=\"anchor\" id=\"section_2_1\"></a>\n",
    "\n",
    "## 가족의 수가 많을 경우 혼자 탑승했을 경우보다 생존률이 높을 것을 확인 <a class=\"anchor\" id=\"section_2_1\"></a>\n",
    "\n",
    "### 그렇다면 가족과 함께 탑승할때 더 비싸고 좋은 좌석을 선택했을 것이라고 가설 <a class=\"anchor\" id=\"section_2_1\"></a>\n",
    "\n",
    "\n",
    "\n",
    "#### Section 2.2 <a class=\"anchor\" id=\"section_2_2\"></a>\n",
    "출처: https://gmnam.tistory.com/246 [Voyager:티스토리]"
   ]
  },
  {
   "cell_type": "markdown",
   "id": "5b684022-5987-41c5-9734-efdf9f49102e",
   "metadata": {},
   "source": [
    "## 1. 데이터 불러오기"
   ]
  },
  {
   "cell_type": "code",
   "execution_count": 131,
   "id": "7426bb94-d9ba-4877-a243-84901402782a",
   "metadata": {
    "scrolled": true
   },
   "outputs": [
    {
     "data": {
      "text/html": [
       "<div>\n",
       "<style scoped>\n",
       "    .dataframe tbody tr th:only-of-type {\n",
       "        vertical-align: middle;\n",
       "    }\n",
       "\n",
       "    .dataframe tbody tr th {\n",
       "        vertical-align: top;\n",
       "    }\n",
       "\n",
       "    .dataframe thead th {\n",
       "        text-align: right;\n",
       "    }\n",
       "</style>\n",
       "<table border=\"1\" class=\"dataframe\">\n",
       "  <thead>\n",
       "    <tr style=\"text-align: right;\">\n",
       "      <th></th>\n",
       "      <th>Survived</th>\n",
       "      <th>Pclass</th>\n",
       "      <th>Name</th>\n",
       "      <th>Sex</th>\n",
       "      <th>Age</th>\n",
       "      <th>SibSp</th>\n",
       "      <th>Parch</th>\n",
       "      <th>Ticket</th>\n",
       "      <th>Fare</th>\n",
       "      <th>Cabin</th>\n",
       "      <th>Embarked</th>\n",
       "    </tr>\n",
       "    <tr>\n",
       "      <th>PassengerId</th>\n",
       "      <th></th>\n",
       "      <th></th>\n",
       "      <th></th>\n",
       "      <th></th>\n",
       "      <th></th>\n",
       "      <th></th>\n",
       "      <th></th>\n",
       "      <th></th>\n",
       "      <th></th>\n",
       "      <th></th>\n",
       "      <th></th>\n",
       "    </tr>\n",
       "  </thead>\n",
       "  <tbody>\n",
       "    <tr>\n",
       "      <th>1</th>\n",
       "      <td>0</td>\n",
       "      <td>3</td>\n",
       "      <td>Braund, Mr. Owen Harris</td>\n",
       "      <td>male</td>\n",
       "      <td>22.0</td>\n",
       "      <td>1</td>\n",
       "      <td>0</td>\n",
       "      <td>A/5 21171</td>\n",
       "      <td>7.2500</td>\n",
       "      <td>NaN</td>\n",
       "      <td>S</td>\n",
       "    </tr>\n",
       "    <tr>\n",
       "      <th>2</th>\n",
       "      <td>1</td>\n",
       "      <td>1</td>\n",
       "      <td>Cumings, Mrs. John Bradley (Florence Briggs Th...</td>\n",
       "      <td>female</td>\n",
       "      <td>38.0</td>\n",
       "      <td>1</td>\n",
       "      <td>0</td>\n",
       "      <td>PC 17599</td>\n",
       "      <td>71.2833</td>\n",
       "      <td>C85</td>\n",
       "      <td>C</td>\n",
       "    </tr>\n",
       "    <tr>\n",
       "      <th>3</th>\n",
       "      <td>1</td>\n",
       "      <td>3</td>\n",
       "      <td>Heikkinen, Miss. Laina</td>\n",
       "      <td>female</td>\n",
       "      <td>26.0</td>\n",
       "      <td>0</td>\n",
       "      <td>0</td>\n",
       "      <td>STON/O2. 3101282</td>\n",
       "      <td>7.9250</td>\n",
       "      <td>NaN</td>\n",
       "      <td>S</td>\n",
       "    </tr>\n",
       "    <tr>\n",
       "      <th>4</th>\n",
       "      <td>1</td>\n",
       "      <td>1</td>\n",
       "      <td>Futrelle, Mrs. Jacques Heath (Lily May Peel)</td>\n",
       "      <td>female</td>\n",
       "      <td>35.0</td>\n",
       "      <td>1</td>\n",
       "      <td>0</td>\n",
       "      <td>113803</td>\n",
       "      <td>53.1000</td>\n",
       "      <td>C123</td>\n",
       "      <td>S</td>\n",
       "    </tr>\n",
       "    <tr>\n",
       "      <th>5</th>\n",
       "      <td>0</td>\n",
       "      <td>3</td>\n",
       "      <td>Allen, Mr. William Henry</td>\n",
       "      <td>male</td>\n",
       "      <td>35.0</td>\n",
       "      <td>0</td>\n",
       "      <td>0</td>\n",
       "      <td>373450</td>\n",
       "      <td>8.0500</td>\n",
       "      <td>NaN</td>\n",
       "      <td>S</td>\n",
       "    </tr>\n",
       "  </tbody>\n",
       "</table>\n",
       "</div>"
      ],
      "text/plain": [
       "             Survived  Pclass  \\\n",
       "PassengerId                     \n",
       "1                   0       3   \n",
       "2                   1       1   \n",
       "3                   1       3   \n",
       "4                   1       1   \n",
       "5                   0       3   \n",
       "\n",
       "                                                          Name     Sex   Age  \\\n",
       "PassengerId                                                                    \n",
       "1                                      Braund, Mr. Owen Harris    male  22.0   \n",
       "2            Cumings, Mrs. John Bradley (Florence Briggs Th...  female  38.0   \n",
       "3                                       Heikkinen, Miss. Laina  female  26.0   \n",
       "4                 Futrelle, Mrs. Jacques Heath (Lily May Peel)  female  35.0   \n",
       "5                                     Allen, Mr. William Henry    male  35.0   \n",
       "\n",
       "             SibSp  Parch            Ticket     Fare Cabin Embarked  \n",
       "PassengerId                                                          \n",
       "1                1      0         A/5 21171   7.2500   NaN        S  \n",
       "2                1      0          PC 17599  71.2833   C85        C  \n",
       "3                0      0  STON/O2. 3101282   7.9250   NaN        S  \n",
       "4                1      0            113803  53.1000  C123        S  \n",
       "5                0      0            373450   8.0500   NaN        S  "
      ]
     },
     "execution_count": 131,
     "metadata": {},
     "output_type": "execute_result"
    }
   ],
   "source": [
    "import pandas as pd\n",
    "import matplotlib.pyplot as plt\n",
    "%matplotlib inline\n",
    "import seaborn as sns\n",
    "\n",
    "df = pd.read_csv(\"./data/train.csv\", index_col=\"PassengerId\")\n",
    "df_test = pd.read_csv(\"./data/test.csv\", index_col=\"PassengerId\")\n",
    "df.head()"
   ]
  },
  {
   "cell_type": "markdown",
   "id": "87f98878-eaf2-40c3-9312-1864da697b10",
   "metadata": {},
   "source": [
    "### 1.1 데이터 확인하기"
   ]
  },
  {
   "cell_type": "markdown",
   "id": "9f76a9df-8bc9-4885-81d2-60de0e98cfd3",
   "metadata": {},
   "source": [
    "클래스 별 탑승자 수"
   ]
  },
  {
   "cell_type": "code",
   "execution_count": 132,
   "id": "a8ddad8a-e11b-4cbc-ad03-edc887d81833",
   "metadata": {},
   "outputs": [
    {
     "data": {
      "image/png": "[encoded data removed]",
      "text/plain": [
       "<Figure size 640x480 with 1 Axes>"
      ]
     },
     "metadata": {},
     "output_type": "display_data"
    }
   ],
   "source": [
    "df[\"Pclass\"].value_counts().plot(kind=\"bar\", x=\"Pclass\")\n",
    "plt.show()"
   ]
  },
  {
   "cell_type": "markdown",
   "id": "f5a5557e-4ea4-4476-ba58-c4cfacc4a894",
   "metadata": {},
   "source": [
    "클래스 별로 몇명이 있는지 확인하기"
   ]
  },
  {
   "cell_type": "code",
   "execution_count": 134,
   "id": "ea09d378-028d-4c5d-9f20-04b0dedc6bd6",
   "metadata": {
    "scrolled": true
   },
   "outputs": [
    {
     "data": {
      "text/plain": [
       "Pclass\n",
       "3    491\n",
       "1    216\n",
       "2    184\n",
       "Name: count, dtype: int64"
      ]
     },
     "execution_count": 134,
     "metadata": {},
     "output_type": "execute_result"
    }
   ],
   "source": [
    "df[\"Pclass\"].value_counts()"
   ]
  },
  {
   "cell_type": "markdown",
   "id": "816b2dac-7c8c-4bb0-bb1c-dc43dea1e300",
   "metadata": {},
   "source": [
    "## 2. 데이터 셋에 대한 궁금증"
   ]
  },
  {
   "cell_type": "markdown",
   "id": "663daf28-26aa-44ce-92d9-51f1ef23356e",
   "metadata": {},
   "source": [
    "### 2.1 등급별 평균 요금이 궁금했음."
   ]
  },
  {
   "cell_type": "code",
   "execution_count": 135,
   "id": "31df96a1-a8a3-40ea-a59b-5f7dc271d0de",
   "metadata": {},
   "outputs": [],
   "source": [
    "df = df.drop(columns=['Name', 'Ticket', 'Cabin'])"
   ]
  },
  {
   "cell_type": "code",
   "execution_count": 136,
   "id": "dd912bb7-2db3-426a-bbc7-e01cfbf15864",
   "metadata": {},
   "outputs": [
    {
     "name": "stdout",
     "output_type": "stream",
     "text": [
      "             Survived  Pclass     Sex   Age  SibSp  Parch     Fare Embarked\n",
      "PassengerId                                                                \n",
      "379                 0       3    male  20.0      0      0   4.0125        C\n",
      "327                 0       3    male  61.0      0      0   6.2375        S\n",
      "844                 0       3    male  34.5      0      0   6.4375        C\n",
      "819                 0       3    male  43.0      0      0   6.4500        S\n",
      "372                 0       3    male  18.0      1      0   6.4958        S\n",
      "...               ...     ...     ...   ...    ...    ...      ...      ...\n",
      "864                 0       3  female   NaN      8      2  69.5500        S\n",
      "793                 0       3  female   NaN      8      2  69.5500        S\n",
      "181                 0       3  female   NaN      8      2  69.5500        S\n",
      "325                 0       3    male   NaN      8      2  69.5500        S\n",
      "160                 0       3    male   NaN      8      2  69.5500        S\n",
      "3등급 승객들의 평균 요금 = 13.787874948665301\n"
     ]
    }
   ],
   "source": [
    "sorted_pclass_3 = df[(df['Pclass'] == 3) & (df['Fare'] > 0)].sort_values(by='Fare', ascending=True)\n",
    "print(sorted_pclass_3.to_string(max_rows=10))\n",
    "average_fare_pclass_3 = sorted_pclass_3['Fare'].mean()\n",
    "print(f\"3등급 승객들의 평균 요금 = {average_fare_pclass_3}\")"
   ]
  },
  {
   "cell_type": "code",
   "execution_count": 137,
   "id": "d9b1bed0-fb20-4fc9-931f-d7e36c8be490",
   "metadata": {},
   "outputs": [
    {
     "name": "stdout",
     "output_type": "stream",
     "text": [
      "             Survived  Pclass     Sex   Age  SibSp  Parch  Fare Embarked\n",
      "PassengerId                                                             \n",
      "34                  0       2    male  66.0      0      0  10.5        S\n",
      "85                  1       2  female  17.0      0      0  10.5        S\n",
      "67                  1       2  female  29.0      0      0  10.5        S\n",
      "57                  1       2  female  21.0      0      0  10.5        S\n",
      "71                  0       2    male  32.0      0      0  10.5        S\n",
      "...               ...     ...     ...   ...    ...    ...   ...      ...\n",
      "386                 0       2    male  18.0      0      0  73.5        S\n",
      "121                 0       2    male  21.0      2      0  73.5        S\n",
      "73                  0       2    male  21.0      0      0  73.5        S\n",
      "666                 0       2    male  32.0      2      0  73.5        S\n",
      "656                 0       2    male  24.0      2      0  73.5        S\n",
      "2등급 승객들의 평균 요금 = 21.358661235955054\n"
     ]
    }
   ],
   "source": [
    "sorted_pclass_2 = df[(df['Pclass'] == 2) & (df['Fare'] > 0)].sort_values(by='Fare', ascending=True)\n",
    "print(sorted_pclass_2.to_string(max_rows=10))\n",
    "average_fare_pclass_2 = sorted_pclass_2['Fare'].mean()\n",
    "print(f\"2등급 승객들의 평균 요금 = {average_fare_pclass_2}\")"
   ]
  },
  {
   "cell_type": "code",
   "execution_count": 138,
   "id": "344a7ecb-409d-47c2-a043-74d1072b2fa0",
   "metadata": {},
   "outputs": [
    {
     "name": "stdout",
     "output_type": "stream",
     "text": [
      "             Survived  Pclass     Sex   Age  SibSp  Parch      Fare Embarked\n",
      "PassengerId                                                                 \n",
      "873                 0       1    male  33.0      0      0    5.0000        S\n",
      "663                 0       1    male  47.0      0      0   25.5875        S\n",
      "169                 0       1    male   NaN      0      0   25.9250        S\n",
      "797                 1       1  female  49.0      0      0   25.9292        S\n",
      "863                 1       1  female  48.0      0      0   25.9292        S\n",
      "...               ...     ...     ...   ...    ...    ...       ...      ...\n",
      "89                  1       1  female  23.0      3      2  263.0000        S\n",
      "342                 1       1  female  24.0      3      2  263.0000        S\n",
      "259                 1       1  female  35.0      0      0  512.3292        C\n",
      "680                 1       1    male  36.0      0      1  512.3292        C\n",
      "738                 1       1    male  35.0      0      0  512.3292        C\n",
      "1등급 승객들의 평균 요금 = 86.14887440758294\n"
     ]
    }
   ],
   "source": [
    "sorted_pclass_1 = df[(df['Pclass'] == 1) & (df['Fare'] > 0)].sort_values(by='Fare', ascending=True)\n",
    "print(sorted_pclass_1.to_string(max_rows=10))\n",
    "average_fare_pclass_1 = sorted_pclass_1['Fare'].mean()\n",
    "print(f\"1등급 승객들의 평균 요금 = {average_fare_pclass_1}\")"
   ]
  },
  {
   "cell_type": "markdown",
   "id": "0b3b6e5a-dcf4-43fc-886f-4bd0b00b8a49",
   "metadata": {},
   "source": [
    "### 2.2 등급별 평균 요금 시각화하기"
   ]
  },
  {
   "cell_type": "code",
   "execution_count": 139,
   "id": "ef57c357-9acc-47f2-bcb5-7a950c38ec07",
   "metadata": {},
   "outputs": [
    {
     "data": {
      "image/png": "[encoded data removed]",
      "text/plain": [
       "<Figure size 800x500 with 1 Axes>"
      ]
     },
     "metadata": {},
     "output_type": "display_data"
    }
   ],
   "source": [
    "plt.rcParams['font.family'] = 'Malgun Gothic'\n",
    "\n",
    "sorted_fares = [average_fare_pclass_3, average_fare_pclass_2, average_fare_pclass_1]\n",
    "pclass_labels = ['3등급', '2등급', '1등급']\n",
    "\n",
    "plt.figure(figsize=(8, 5))\n",
    "plt.bar(pclass_labels, sorted_fares, color='skyblue')\n",
    "plt.xlabel('Pclass (승객 등급)')\n",
    "plt.ylabel('평균 요금 (Fare)')\n",
    "plt.title('Pclass별 평균 요금')\n",
    "plt.ylim(0, 100)\n",
    "plt.grid(axis='y')\n",
    "plt.show()"
   ]
  },
  {
   "cell_type": "markdown",
   "id": "0ba4a288-31e3-488a-8591-6819270dd498",
   "metadata": {},
   "source": [
    "### 2.3 등급별 생존자 수 구하기"
   ]
  },
  {
   "cell_type": "code",
   "execution_count": 140,
   "id": "76d7f630-1fde-4d3b-9785-2c5e118c00ea",
   "metadata": {
    "scrolled": true
   },
   "outputs": [
    {
     "name": "stdout",
     "output_type": "stream",
     "text": [
      "Pclass\n",
      "3    491\n",
      "1    216\n",
      "2    184\n",
      "Name: count, dtype: int64\n"
     ]
    },
    {
     "data": {
      "image/png": "[encoded data removed]",
      "text/plain": [
       "<Figure size 640x480 with 1 Axes>"
      ]
     },
     "metadata": {},
     "output_type": "display_data"
    }
   ],
   "source": [
    "print(df['Pclass'].value_counts())\n",
    "ax = sns.countplot(x = 'Pclass', hue = 'Survived',  data = df)"
   ]
  },
  {
   "cell_type": "markdown",
   "id": "152888c9-8e0a-462b-bacc-835e2e43b049",
   "metadata": {},
   "source": [
    "### 3. 같이 탑승했을 경우에 대한 궁금증"
   ]
  },
  {
   "cell_type": "markdown",
   "id": "2352e79c-3f79-42aa-99a2-55ed9b3e28cb",
   "metadata": {},
   "source": [
    "### 3.1 가족 크기 비교하기"
   ]
  },
  {
   "cell_type": "code",
   "execution_count": 141,
   "id": "9498b120-3654-4ced-b5e9-639560002b81",
   "metadata": {},
   "outputs": [
    {
     "data": {
      "image/png": "[encoded data removed]",
      "text/plain": [
       "<Figure size 1200x600 with 1 Axes>"
      ]
     },
     "metadata": {},
     "output_type": "display_data"
    }
   ],
   "source": [
    "df['family_size'] = df['SibSp'] + df['Parch']\n",
    "\n",
    "# 가족 크기 분포 시각화 (seaborn 없이)\n",
    "plt.figure(figsize=(12, 6))\n",
    "family_size_count = df['family_size'].value_counts().sort_index()\n",
    "\n",
    "plt.bar(family_size_count.index, family_size_count.values, color='blue')\n",
    "plt.title('가족 크기 비교', fontsize=16)\n",
    "plt.xlabel('같이 탑승한 사람의 수', fontsize=14)\n",
    "plt.ylabel('사람 수', fontsize=14)\n",
    "plt.xticks(family_size_count.index)\n",
    "plt.tight_layout()\n",
    "plt.show()"
   ]
  },
  {
   "cell_type": "markdown",
   "id": "0efc0a1a-b5bf-4334-a2ef-f51dd355652d",
   "metadata": {},
   "source": [
    "### 3.2 동반자 수에 따른 생존 확률"
   ]
  },
  {
   "cell_type": "code",
   "execution_count": 142,
   "id": "b6f835c5-29c8-49ca-9ebc-0c11d2bab06b",
   "metadata": {},
   "outputs": [
    {
     "name": "stdout",
     "output_type": "stream",
     "text": [
      "   family_size  Survived\n",
      "0            0  0.303538\n",
      "1            1  0.552795\n",
      "2            2  0.578431\n",
      "3            3  0.724138\n",
      "4            4  0.200000\n",
      "5            5  0.136364\n",
      "6            6  0.333333\n",
      "7            7  0.000000\n",
      "8           10  0.000000\n"
     ]
    }
   ],
   "source": [
    "survival_prob = df.groupby('family_size')['Survived'].mean().reset_index()\n",
    "print(survival_prob)"
   ]
  },
  {
   "cell_type": "code",
   "execution_count": 143,
   "id": "ea8f4470-0b61-4849-896f-5f1af302ac58",
   "metadata": {},
   "outputs": [
    {
     "data": {
      "image/png": "[encoded data removed]",
      "text/plain": [
       "<Figure size 1000x600 with 1 Axes>"
      ]
     },
     "metadata": {},
     "output_type": "display_data"
    }
   ],
   "source": [
    "plt.figure(figsize=(10, 6))\n",
    "plt.bar(survival_prob['family_size'], survival_prob['Survived'], color='skyblue', alpha=0.7)\n",
    "plt.title('타이타닉에서 동반자 수에 따른 생존 확률')\n",
    "plt.xlabel('함께 탑승한 동반자의 수')\n",
    "plt.ylabel('생존 확률')\n",
    "plt.xticks(range(int(survival_prob['family_size'].max()) + 1))\n",
    "plt.grid(axis='y')\n",
    "plt.show()"
   ]
  },
  {
   "cell_type": "markdown",
   "id": "80a9be35-43a3-44a8-97e5-3d994450565e",
   "metadata": {},
   "source": [
    "### -각 클래스 별 가족과 함께 탑승한 사람과 혼자 탑승한 사람 비교하기"
   ]
  },
  {
   "cell_type": "code",
   "execution_count": 144,
   "id": "7a6abc32-d7a5-49ad-b4d3-09f3647d9931",
   "metadata": {},
   "outputs": [
    {
     "data": {
      "image/png": "[encoded data removed]",
      "text/plain": [
       "<Figure size 640x480 with 1 Axes>"
      ]
     },
     "metadata": {},
     "output_type": "display_data"
    }
   ],
   "source": [
    "df['family_size'] = df['family_size'].apply(lambda x: 1 if x > 0 else 0)\n",
    "\n",
    "# 클래스별 가족과 함께 또는 혼자 탑승한 사람의 수 계산\n",
    "family_counts = df.groupby(['Pclass', 'family_size']).size().unstack()\n",
    "\n",
    "# 그래프로 시각화\n",
    "family_counts.plot(kind='bar', stacked=True, color=['lightcoral', 'lightskyblue'])\n",
    "plt.title('클래스 별 혼자, 가족과 함께 탑승 비교')\n",
    "plt.xlabel('승객 등급')\n",
    "plt.ylabel('승객 수')\n",
    "plt.legend(['혼자', '가족 함께'])\n",
    "plt.xticks(rotation=0)\n",
    "plt.show()"
   ]
  },
  {
   "cell_type": "markdown",
   "id": "09458670-4186-4943-a4af-73256ff7589d",
   "metadata": {},
   "source": [
    "# 모델 만들기"
   ]
  },
  {
   "cell_type": "markdown",
   "id": "52d4e19e-a250-42ab-9bcc-7a7a6b826efb",
   "metadata": {},
   "source": [
    "### -가족과 함께 탑승할때 더 비싸고 좋은 좌석을 선택했을 것이라고 가설을 세움"
   ]
  },
  {
   "cell_type": "code",
   "execution_count": 145,
   "id": "23b42fbc-660a-433a-aa6b-7d5b04280819",
   "metadata": {},
   "outputs": [],
   "source": [
    "from sklearn.model_selection import train_test_split\n",
    "from sklearn.ensemble import RandomForestClassifier\n",
    "from sklearn.metrics import classification_report, confusion_matrix, accuracy_score\n",
    "\n",
    "df['with_family'] = (df['family_size'] > 0).astype(int)  # 1: 가족 동반, 0: 혼자\n",
    "\n",
    "# 범주형 변수를 수치형으로 변환 (sex, embarked)\n",
    "df['Sex'] = df['Sex'].map({'male': 0, 'female': 1})\n",
    "df['Embarked'] = df['Embarked'].map({'C': 0, 'Q': 1, 'S': 2})\n",
    "\n",
    "# 목표 변수 생성 (좌석 등급과 운임 기준으로 좋은 좌석 정의)\n",
    "# Pclass 값이 낮고 Fare 값이 높은 경우 더 좋은 좌석으로 정의\n",
    "df['target'] = ((df['Pclass'] <= 2) & (df['Fare'] > df['Fare'].median())).astype(int)\n",
    "\n",
    "# 불필요한 컬럼 제거\n",
    "df = df.drop(columns=['SibSp', 'Parch', 'family_size'])\n"
   ]
  },
  {
   "cell_type": "code",
   "execution_count": 146,
   "id": "a08b13bb-1e75-4135-9a16-28fcbae19925",
   "metadata": {},
   "outputs": [],
   "source": [
    "# 독립 변수(X)와 종속 변수(y) 설정\n",
    "X = df.drop(columns=['target'])\n",
    "y = df['target']\n",
    "\n",
    "# 데이터 분할 (훈련 세트와 테스트 세트)\n",
    "X_train, X_test, y_train, y_test = train_test_split(X, y, test_size=0.2, random_state=42, stratify=y)\n"
   ]
  },
  {
   "cell_type": "code",
   "execution_count": 147,
   "id": "ab38ed41-9655-45ff-8ad1-1813f4e10324",
   "metadata": {},
   "outputs": [],
   "source": [
    "# 랜덤 포레스트 분류 모델 생성\n",
    "model = RandomForestClassifier(random_state=42, n_estimators=100, max_depth=5)\n",
    "\n",
    "# 모델 학습\n",
    "model.fit(X_train, y_train)\n",
    "\n",
    "# 예측\n",
    "y_pred = model.predict(X_test)\n"
   ]
  },
  {
   "cell_type": "code",
   "execution_count": 148,
   "id": "2aa72415-c244-4720-a58c-2e5d3fb22f93",
   "metadata": {},
   "outputs": [
    {
     "name": "stdout",
     "output_type": "stream",
     "text": [
      "Accuracy: 1.0\n",
      "\n",
      "Classification Report:\n",
      "               precision    recall  f1-score   support\n",
      "\n",
      "           0       1.00      1.00      1.00       118\n",
      "           1       1.00      1.00      1.00        61\n",
      "\n",
      "    accuracy                           1.00       179\n",
      "   macro avg       1.00      1.00      1.00       179\n",
      "weighted avg       1.00      1.00      1.00       179\n",
      "\n",
      "\n",
      "Confusion Matrix:\n",
      " [[118   0]\n",
      " [  0  61]]\n"
     ]
    }
   ],
   "source": [
    "from sklearn.metrics import classification_report, confusion_matrix, accuracy_score\n",
    "# 모델 평가\n",
    "print(\"Accuracy:\", accuracy_score(y_test, y_pred))\n",
    "print(\"\\nClassification Report:\\n\", classification_report(y_test, y_pred))\n",
    "print(\"\\nConfusion Matrix:\\n\", confusion_matrix(y_test, y_pred))\n"
   ]
  }
 ],
 "metadata": {
  "kernelspec": {
   "display_name": "Python 3 (ipykernel)",
   "language": "python",
   "name": "python3"
  },
  "language_info": {
   "codemirror_mode": {
    "name": "ipython",
    "version": 3
   },
   "file_extension": ".py",
   "mimetype": "text/x-python",
   "name": "python",
   "nbconvert_exporter": "python",
   "pygments_lexer": "ipython3",
   "version": "3.12.4"
  }
 },
 "nbformat": 4,
 "nbformat_minor": 5
}
